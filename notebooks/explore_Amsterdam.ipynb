{
 "cells": [
  {
   "cell_type": "markdown",
   "metadata": {},
   "source": [
    "# What could we do with more refined method, still with open data\n",
    "\n",
    "Example using precomputed metrics on Amsterdam from https://figshare.com/articles/dataset/Global_Urban_Network_Dataset/22124219/11"
   ]
  },
  {
   "cell_type": "code",
   "execution_count": 1,
   "metadata": {},
   "outputs": [],
   "source": [
    "import osmnx as ox"
   ]
  },
  {
   "cell_type": "code",
   "execution_count": null,
   "metadata": {},
   "outputs": [],
   "source": [
    "# edges = gpd.read_file(\"../data/raw/Amsterdam_edges_100m.geojson\")\n",
    "# nodes = gpd.read_file(\"../data/raw/Amsterdam_nodes_100m.geojson\")\n",
    "# G = nx.MultiGraph()\n",
    "# node_keys = nodes.keys()\n",
    "# nodes_values = nodes.values\n",
    "# for i in range(len(nodes_values)):\n",
    "#     node = nodes_values[i]\n",
    "#     G.add_node(node[1], **{node_keys[j]:node[j] for j in range(2, len(node_keys))})\n",
    "# edge_keys = edges.keys()\n",
    "# edges_values = edges.values\n",
    "# for i in range(len(edges_values)):\n",
    "#     edge = edges_values[i]\n",
    "#     G.add_edge(edge[1], edge[2], 0, **{edge_keys[j]:edge[j] for j in range(3, len(edge_keys))})\n",
    "# ox.save_graphml(G, \"../data/processed/graphs/Amsterdam_urbanity.graphml\")"
   ]
  },
  {
   "cell_type": "code",
   "execution_count": 67,
   "metadata": {},
   "outputs": [],
   "source": [
    "G = ox.load_graphml(\"../data/processed/graphs/Amsterdam_urbanity.graphml\")"
   ]
  },
  {
   "cell_type": "code",
   "execution_count": null,
   "metadata": {},
   "outputs": [],
   "source": []
  }
 ],
 "metadata": {
  "kernelspec": {
   "display_name": "js_walk",
   "language": "python",
   "name": "python3"
  },
  "language_info": {
   "codemirror_mode": {
    "name": "ipython",
    "version": 3
   },
   "file_extension": ".py",
   "mimetype": "text/x-python",
   "name": "python",
   "nbconvert_exporter": "python",
   "pygments_lexer": "ipython3",
   "version": "3.12.7"
  }
 },
 "nbformat": 4,
 "nbformat_minor": 2
}
